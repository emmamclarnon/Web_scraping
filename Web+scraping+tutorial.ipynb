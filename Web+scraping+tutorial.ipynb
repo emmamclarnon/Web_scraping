{
 "cells": [
  {
   "cell_type": "code",
   "execution_count": 1,
   "metadata": {
    "scrolled": false
   },
   "outputs": [
    {
     "name": "stdout",
     "output_type": "stream",
     "text": [
      "Great! Let's get on with it!\n"
     ]
    }
   ],
   "source": [
    "import sys\n",
    "if sys.version_info[0] == 3:\n",
    "    print (\"Great! Let's get on with it!\")\n",
    "else:\n",
    "    print ('Yikes, no ball!')"
   ]
  },
  {
   "cell_type": "code",
   "execution_count": 4,
   "metadata": {
    "collapsed": true
   },
   "outputs": [],
   "source": [
    "import requests #library we use to send web-requests to get html from websites\n",
    "from bs4 import BeautifulSoup"
   ]
  },
  {
   "cell_type": "code",
   "execution_count": 5,
   "metadata": {
    "collapsed": true
   },
   "outputs": [],
   "source": [
    "WEB_PAGE_TO_SCRAPE_URL = \"https://techcrunch.com/\" #website we want to scrape"
   ]
  },
  {
   "cell_type": "code",
   "execution_count": 9,
   "metadata": {},
   "outputs": [],
   "source": [
    "response=requests.get (\"https://techcrunch.com/\")"
   ]
  },
  {
   "cell_type": "code",
   "execution_count": 14,
   "metadata": {},
   "outputs": [
    {
     "data": {
      "text/plain": [
       "'!DOCTYPE html>\\n<htm'"
      ]
     },
     "execution_count": 14,
     "metadata": {},
     "output_type": "execute_result"
    }
   ],
   "source": [
    "response_text = response.text\n",
    "response_text[1:20]"
   ]
  },
  {
   "cell_type": "code",
   "execution_count": 17,
   "metadata": {},
   "outputs": [
    {
     "data": {
      "text/plain": [
       "'<!DOCTYPE html>\\n<html xmlns=\"http://www.w3.org/1999/xhtml\" xmlns:og=\"http://opengraphprotocol.org/schema/\" xmlns:fb=\"http://www.facebook.com/2008/fbml\" lang=\"en\">\\n<head>\\n\\t<title>TechCrunch - The latest technology news and information on startups</title>\\n\\t<meta http-equiv=\"X-UA-Compatible\" content=\"IE=Edge\" />\\n\\t<meta charset=\"UTF-8\">\\n\\t\\t<meta name=\"p:domain_verify\" content=\"6189ff68ce30e30f12b40b3b40873027\"/>\\n\\t<meta name=\"HandheldFriendly\" content=\"True\">\\n\\t<meta name=\"MobileOptimized\" content=\"320'"
      ]
     },
     "execution_count": 17,
     "metadata": {},
     "output_type": "execute_result"
    }
   ],
   "source": [
    "fetched_html=response_text\n",
    "fetched_html[:500]"
   ]
  },
  {
   "cell_type": "code",
   "execution_count": 19,
   "metadata": {},
   "outputs": [],
   "source": [
    "souped_page=BeautifulSoup(fetched_html, 'html.parser')"
   ]
  },
  {
   "cell_type": "code",
   "execution_count": 24,
   "metadata": {},
   "outputs": [
    {
     "data": {
      "text/plain": [
       "<title>TechCrunch - The latest technology news and information on startups</title>"
      ]
     },
     "execution_count": 24,
     "metadata": {},
     "output_type": "execute_result"
    }
   ],
   "source": [
    "souped_page.find('title')"
   ]
  },
  {
   "cell_type": "code",
   "execution_count": 33,
   "metadata": {},
   "outputs": [
    {
     "data": {
      "text/plain": [
       "'TechCrunch - The latest technology news and information on startups'"
      ]
     },
     "execution_count": 33,
     "metadata": {},
     "output_type": "execute_result"
    }
   ],
   "source": [
    "souped_page.find('title').getText()"
   ]
  },
  {
   "cell_type": "code",
   "execution_count": 34,
   "metadata": {},
   "outputs": [
    {
     "data": {
      "text/plain": [
       "<ul class=\"inline-list social-list sprite-social\">\n",
       "<li class=\"nav-followus\">Follow Us</li><li class=\"first\">\n",
       "<a class=\"spricon nosprite icon-facebook\" href=\"https://www.facebook.com/techcrunch\" rel=\"external\" target=\"_blank\"><span class=\"is-vishidden\">Facebook</span></a>\n",
       "</li><li>\n",
       "<a class=\"spricon nosprite icon-instagram\" href=\"https://instagram.com/techcrunch\" rel=\"external\" target=\"_blank\"><span class=\"is-vishidden\">Instagram</span></a>\n",
       "</li><li>\n",
       "<a class=\"spricon nosprite icon-twitter\" href=\"https://twitter.com/techcrunch\" rel=\"external\" target=\"_blank\"><span class=\"is-vishidden\">Twitter</span></a>\n",
       "</li><li class=\"youtube nav-aux\">\n",
       "<a class=\"spricon nosprite icon-youtube\" href=\"http://www.youtube.com/user/techcrunch\" rel=\"external\" target=\"_blank\"><span class=\"is-vishidden\">Youtube</span></a>\n",
       "</li><li class=\"flipboard nav-aux\">\n",
       "<a class=\"spricon nosprite icon-flipboard\" href=\"https://flipboard.com/@techcrunch\" rel=\"external\" target=\"_blank\"><span class=\"is-vishidden\">Flipboard</span></a>\n",
       "</li><li class=\"linkedin nav-aux\">\n",
       "<a class=\"spricon nosprite icon-linkedin\" href=\"http://www.linkedin.com/company/techcrunch\" rel=\"external\" target=\"_blank\"><span class=\"is-vishidden\">LinkedIn</span></a>\n",
       "</li><li class=\"nav-aux\">\n",
       "<a class=\"spricon nosprite icon-google-plus\" href=\"https://plus.google.com/+TechCrunch\" rel=\"external\" target=\"_blank\"><span class=\"is-vishidden\">Google+</span></a>\n",
       "</li><li class=\"rss nav-aux\">\n",
       "<a class=\"spricon nosprite icon-rss\" href=\"/rssfeeds/\"><span class=\"is-vishidden\">RSS</span></a>\n",
       "</li>\n",
       "<li class=\"nav-social-more\">\n",
       "<a class=\"icon-caret-down\" href=\"#\"><span class=\"is-vishidden\">More</span></a>\n",
       "<ul>\n",
       "<li class=\"youtube\">\n",
       "<a class=\"spricon nosprite icon-youtube\" href=\"http://www.youtube.com/user/techcrunch\" rel=\"external\" target=\"_blank\"><span class=\"is-vishidden\">Youtube</span></a>\n",
       "</li><li class=\"flipboard\">\n",
       "<a class=\"spricon nosprite icon-flipboard\" href=\"https://flipboard.com/@techcrunch\" rel=\"external\" target=\"_blank\"><span class=\"is-vishidden\">Flipboard</span></a>\n",
       "</li><li class=\"linkedin\">\n",
       "<a class=\"spricon nosprite icon-linkedin\" href=\"http://www.linkedin.com/company/techcrunch\" rel=\"external\" target=\"_blank\"><span class=\"is-vishidden\">LinkedIn</span></a>\n",
       "</li><li class=\"google-plus\">\n",
       "<a class=\"spricon nosprite icon-google-plus\" href=\"https://plus.google.com/+TechCrunch\" rel=\"external\" target=\"_blank\"><span class=\"is-vishidden\">Google+</span></a>\n",
       "</li><li class=\"rss\">\n",
       "<a class=\"spricon nosprite icon-rss\" href=\"/rssfeeds/\"><span class=\"is-vishidden\">RSS</span></a>\n",
       "</li>\n",
       "</ul>\n",
       "</li>\n",
       "</ul>"
      ]
     },
     "execution_count": 34,
     "metadata": {},
     "output_type": "execute_result"
    }
   ],
   "source": [
    "souped_page.find('ul')"
   ]
  },
  {
   "cell_type": "code",
   "execution_count": 40,
   "metadata": {},
   "outputs": [],
   "source": [
    "element_search=souped_page.find('ul', {'class':'river'})"
   ]
  },
  {
   "cell_type": "code",
   "execution_count": 44,
   "metadata": {},
   "outputs": [
    {
     "data": {
      "text/plain": [
       "{'class': ['river', 'lc-padding'], 'id': 'river1'}"
      ]
     },
     "execution_count": 44,
     "metadata": {},
     "output_type": "execute_result"
    }
   ],
   "source": [
    "element_search.attrs"
   ]
  },
  {
   "cell_type": "code",
   "execution_count": null,
   "metadata": {
    "collapsed": true
   },
   "outputs": [],
   "source": []
  }
 ],
 "metadata": {
  "kernelspec": {
   "display_name": "Python 3",
   "language": "python",
   "name": "python3"
  },
  "language_info": {
   "codemirror_mode": {
    "name": "ipython",
    "version": 3
   },
   "file_extension": ".py",
   "mimetype": "text/x-python",
   "name": "python",
   "nbconvert_exporter": "python",
   "pygments_lexer": "ipython3",
   "version": "3.6.2"
  }
 },
 "nbformat": 4,
 "nbformat_minor": 2
}
